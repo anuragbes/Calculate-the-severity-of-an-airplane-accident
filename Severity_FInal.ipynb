{
 "cells": [
  {
   "cell_type": "code",
   "execution_count": 1,
   "metadata": {},
   "outputs": [],
   "source": [
    "import pandas as pd\n",
    "import numpy as np\n",
    "import matplotlib.pyplot as plt\n",
    "import seaborn as sns\n",
    "%matplotlib inline\n",
    "import warnings\n",
    "warnings.filterwarnings('ignore')"
   ]
  },
  {
   "cell_type": "code",
   "execution_count": 2,
   "metadata": {},
   "outputs": [],
   "source": [
    "train = pd.read_csv('train.csv')\n",
    "test = pd.read_csv('test.csv')"
   ]
  },
  {
   "cell_type": "code",
   "execution_count": 3,
   "metadata": {
    "scrolled": true
   },
   "outputs": [
    {
     "data": {
      "text/html": [
       "<div>\n",
       "<style scoped>\n",
       "    .dataframe tbody tr th:only-of-type {\n",
       "        vertical-align: middle;\n",
       "    }\n",
       "\n",
       "    .dataframe tbody tr th {\n",
       "        vertical-align: top;\n",
       "    }\n",
       "\n",
       "    .dataframe thead th {\n",
       "        text-align: right;\n",
       "    }\n",
       "</style>\n",
       "<table border=\"1\" class=\"dataframe\">\n",
       "  <thead>\n",
       "    <tr style=\"text-align: right;\">\n",
       "      <th></th>\n",
       "      <th>Severity</th>\n",
       "      <th>Safety_Score</th>\n",
       "      <th>Days_Since_Inspection</th>\n",
       "      <th>Total_Safety_Complaints</th>\n",
       "      <th>Control_Metric</th>\n",
       "      <th>Turbulence_In_gforces</th>\n",
       "      <th>Cabin_Temperature</th>\n",
       "      <th>Accident_Type_Code</th>\n",
       "      <th>Max_Elevation</th>\n",
       "      <th>Violations</th>\n",
       "      <th>Adverse_Weather_Metric</th>\n",
       "      <th>Accident_ID</th>\n",
       "    </tr>\n",
       "  </thead>\n",
       "  <tbody>\n",
       "    <tr>\n",
       "      <th>0</th>\n",
       "      <td>Minor_Damage_And_Injuries</td>\n",
       "      <td>49.223744</td>\n",
       "      <td>14</td>\n",
       "      <td>22</td>\n",
       "      <td>71.285324</td>\n",
       "      <td>0.272118</td>\n",
       "      <td>78.04</td>\n",
       "      <td>2</td>\n",
       "      <td>31335.476824</td>\n",
       "      <td>3</td>\n",
       "      <td>0.424352</td>\n",
       "      <td>7570</td>\n",
       "    </tr>\n",
       "    <tr>\n",
       "      <th>1</th>\n",
       "      <td>Minor_Damage_And_Injuries</td>\n",
       "      <td>62.465753</td>\n",
       "      <td>10</td>\n",
       "      <td>27</td>\n",
       "      <td>72.288058</td>\n",
       "      <td>0.423939</td>\n",
       "      <td>84.54</td>\n",
       "      <td>2</td>\n",
       "      <td>26024.711057</td>\n",
       "      <td>2</td>\n",
       "      <td>0.352350</td>\n",
       "      <td>12128</td>\n",
       "    </tr>\n",
       "    <tr>\n",
       "      <th>2</th>\n",
       "      <td>Significant_Damage_And_Fatalities</td>\n",
       "      <td>63.059361</td>\n",
       "      <td>13</td>\n",
       "      <td>16</td>\n",
       "      <td>66.362808</td>\n",
       "      <td>0.322604</td>\n",
       "      <td>78.86</td>\n",
       "      <td>7</td>\n",
       "      <td>39269.053927</td>\n",
       "      <td>3</td>\n",
       "      <td>0.003364</td>\n",
       "      <td>2181</td>\n",
       "    </tr>\n",
       "    <tr>\n",
       "      <th>3</th>\n",
       "      <td>Significant_Damage_And_Serious_Injuries</td>\n",
       "      <td>48.082192</td>\n",
       "      <td>11</td>\n",
       "      <td>9</td>\n",
       "      <td>74.703737</td>\n",
       "      <td>0.337029</td>\n",
       "      <td>81.79</td>\n",
       "      <td>3</td>\n",
       "      <td>42771.499200</td>\n",
       "      <td>1</td>\n",
       "      <td>0.211728</td>\n",
       "      <td>5946</td>\n",
       "    </tr>\n",
       "    <tr>\n",
       "      <th>4</th>\n",
       "      <td>Significant_Damage_And_Fatalities</td>\n",
       "      <td>26.484018</td>\n",
       "      <td>13</td>\n",
       "      <td>25</td>\n",
       "      <td>47.948952</td>\n",
       "      <td>0.541140</td>\n",
       "      <td>77.16</td>\n",
       "      <td>3</td>\n",
       "      <td>35509.228515</td>\n",
       "      <td>2</td>\n",
       "      <td>0.176883</td>\n",
       "      <td>9054</td>\n",
       "    </tr>\n",
       "  </tbody>\n",
       "</table>\n",
       "</div>"
      ],
      "text/plain": [
       "                                  Severity  Safety_Score  \\\n",
       "0                Minor_Damage_And_Injuries     49.223744   \n",
       "1                Minor_Damage_And_Injuries     62.465753   \n",
       "2        Significant_Damage_And_Fatalities     63.059361   \n",
       "3  Significant_Damage_And_Serious_Injuries     48.082192   \n",
       "4        Significant_Damage_And_Fatalities     26.484018   \n",
       "\n",
       "   Days_Since_Inspection  Total_Safety_Complaints  Control_Metric  \\\n",
       "0                     14                       22       71.285324   \n",
       "1                     10                       27       72.288058   \n",
       "2                     13                       16       66.362808   \n",
       "3                     11                        9       74.703737   \n",
       "4                     13                       25       47.948952   \n",
       "\n",
       "   Turbulence_In_gforces  Cabin_Temperature  Accident_Type_Code  \\\n",
       "0               0.272118              78.04                   2   \n",
       "1               0.423939              84.54                   2   \n",
       "2               0.322604              78.86                   7   \n",
       "3               0.337029              81.79                   3   \n",
       "4               0.541140              77.16                   3   \n",
       "\n",
       "   Max_Elevation  Violations  Adverse_Weather_Metric  Accident_ID  \n",
       "0   31335.476824           3                0.424352         7570  \n",
       "1   26024.711057           2                0.352350        12128  \n",
       "2   39269.053927           3                0.003364         2181  \n",
       "3   42771.499200           1                0.211728         5946  \n",
       "4   35509.228515           2                0.176883         9054  "
      ]
     },
     "execution_count": 3,
     "metadata": {},
     "output_type": "execute_result"
    }
   ],
   "source": [
    "train.head()"
   ]
  },
  {
   "cell_type": "code",
   "execution_count": 4,
   "metadata": {},
   "outputs": [
    {
     "data": {
      "text/html": [
       "<div>\n",
       "<style scoped>\n",
       "    .dataframe tbody tr th:only-of-type {\n",
       "        vertical-align: middle;\n",
       "    }\n",
       "\n",
       "    .dataframe tbody tr th {\n",
       "        vertical-align: top;\n",
       "    }\n",
       "\n",
       "    .dataframe thead th {\n",
       "        text-align: right;\n",
       "    }\n",
       "</style>\n",
       "<table border=\"1\" class=\"dataframe\">\n",
       "  <thead>\n",
       "    <tr style=\"text-align: right;\">\n",
       "      <th></th>\n",
       "      <th>Safety_Score</th>\n",
       "      <th>Days_Since_Inspection</th>\n",
       "      <th>Total_Safety_Complaints</th>\n",
       "      <th>Control_Metric</th>\n",
       "      <th>Turbulence_In_gforces</th>\n",
       "      <th>Cabin_Temperature</th>\n",
       "      <th>Accident_Type_Code</th>\n",
       "      <th>Max_Elevation</th>\n",
       "      <th>Violations</th>\n",
       "      <th>Adverse_Weather_Metric</th>\n",
       "      <th>Accident_ID</th>\n",
       "    </tr>\n",
       "  </thead>\n",
       "  <tbody>\n",
       "    <tr>\n",
       "      <th>0</th>\n",
       "      <td>19.497717</td>\n",
       "      <td>16</td>\n",
       "      <td>6</td>\n",
       "      <td>72.151322</td>\n",
       "      <td>0.388959</td>\n",
       "      <td>78.32</td>\n",
       "      <td>4</td>\n",
       "      <td>37949.724386</td>\n",
       "      <td>2</td>\n",
       "      <td>0.069692</td>\n",
       "      <td>1</td>\n",
       "    </tr>\n",
       "    <tr>\n",
       "      <th>1</th>\n",
       "      <td>58.173516</td>\n",
       "      <td>15</td>\n",
       "      <td>3</td>\n",
       "      <td>64.585232</td>\n",
       "      <td>0.250841</td>\n",
       "      <td>78.60</td>\n",
       "      <td>7</td>\n",
       "      <td>30194.805567</td>\n",
       "      <td>2</td>\n",
       "      <td>0.002777</td>\n",
       "      <td>10</td>\n",
       "    </tr>\n",
       "    <tr>\n",
       "      <th>2</th>\n",
       "      <td>33.287671</td>\n",
       "      <td>15</td>\n",
       "      <td>3</td>\n",
       "      <td>64.721969</td>\n",
       "      <td>0.336669</td>\n",
       "      <td>86.96</td>\n",
       "      <td>6</td>\n",
       "      <td>17572.925484</td>\n",
       "      <td>1</td>\n",
       "      <td>0.004316</td>\n",
       "      <td>14</td>\n",
       "    </tr>\n",
       "    <tr>\n",
       "      <th>3</th>\n",
       "      <td>3.287671</td>\n",
       "      <td>21</td>\n",
       "      <td>5</td>\n",
       "      <td>66.362808</td>\n",
       "      <td>0.421775</td>\n",
       "      <td>80.86</td>\n",
       "      <td>3</td>\n",
       "      <td>40209.186341</td>\n",
       "      <td>2</td>\n",
       "      <td>0.199990</td>\n",
       "      <td>17</td>\n",
       "    </tr>\n",
       "    <tr>\n",
       "      <th>4</th>\n",
       "      <td>10.867580</td>\n",
       "      <td>18</td>\n",
       "      <td>2</td>\n",
       "      <td>56.107566</td>\n",
       "      <td>0.313228</td>\n",
       "      <td>79.22</td>\n",
       "      <td>2</td>\n",
       "      <td>35495.525408</td>\n",
       "      <td>2</td>\n",
       "      <td>0.483696</td>\n",
       "      <td>21</td>\n",
       "    </tr>\n",
       "  </tbody>\n",
       "</table>\n",
       "</div>"
      ],
      "text/plain": [
       "   Safety_Score  Days_Since_Inspection  Total_Safety_Complaints  \\\n",
       "0     19.497717                     16                        6   \n",
       "1     58.173516                     15                        3   \n",
       "2     33.287671                     15                        3   \n",
       "3      3.287671                     21                        5   \n",
       "4     10.867580                     18                        2   \n",
       "\n",
       "   Control_Metric  Turbulence_In_gforces  Cabin_Temperature  \\\n",
       "0       72.151322               0.388959              78.32   \n",
       "1       64.585232               0.250841              78.60   \n",
       "2       64.721969               0.336669              86.96   \n",
       "3       66.362808               0.421775              80.86   \n",
       "4       56.107566               0.313228              79.22   \n",
       "\n",
       "   Accident_Type_Code  Max_Elevation  Violations  Adverse_Weather_Metric  \\\n",
       "0                   4   37949.724386           2                0.069692   \n",
       "1                   7   30194.805567           2                0.002777   \n",
       "2                   6   17572.925484           1                0.004316   \n",
       "3                   3   40209.186341           2                0.199990   \n",
       "4                   2   35495.525408           2                0.483696   \n",
       "\n",
       "   Accident_ID  \n",
       "0            1  \n",
       "1           10  \n",
       "2           14  \n",
       "3           17  \n",
       "4           21  "
      ]
     },
     "execution_count": 4,
     "metadata": {},
     "output_type": "execute_result"
    }
   ],
   "source": [
    "test.head()"
   ]
  },
  {
   "cell_type": "code",
   "execution_count": 5,
   "metadata": {},
   "outputs": [],
   "source": [
    "total = pd.concat([train,test],axis=0,sort=False)"
   ]
  },
  {
   "cell_type": "code",
   "execution_count": 6,
   "metadata": {},
   "outputs": [
    {
     "data": {
      "text/html": [
       "<div>\n",
       "<style scoped>\n",
       "    .dataframe tbody tr th:only-of-type {\n",
       "        vertical-align: middle;\n",
       "    }\n",
       "\n",
       "    .dataframe tbody tr th {\n",
       "        vertical-align: top;\n",
       "    }\n",
       "\n",
       "    .dataframe thead th {\n",
       "        text-align: right;\n",
       "    }\n",
       "</style>\n",
       "<table border=\"1\" class=\"dataframe\">\n",
       "  <thead>\n",
       "    <tr style=\"text-align: right;\">\n",
       "      <th></th>\n",
       "      <th>Severity</th>\n",
       "      <th>Safety_Score</th>\n",
       "      <th>Days_Since_Inspection</th>\n",
       "      <th>Total_Safety_Complaints</th>\n",
       "      <th>Control_Metric</th>\n",
       "      <th>Turbulence_In_gforces</th>\n",
       "      <th>Cabin_Temperature</th>\n",
       "      <th>Accident_Type_Code</th>\n",
       "      <th>Max_Elevation</th>\n",
       "      <th>Violations</th>\n",
       "      <th>Adverse_Weather_Metric</th>\n",
       "      <th>Accident_ID</th>\n",
       "    </tr>\n",
       "  </thead>\n",
       "  <tbody>\n",
       "    <tr>\n",
       "      <th>0</th>\n",
       "      <td>Minor_Damage_And_Injuries</td>\n",
       "      <td>49.223744</td>\n",
       "      <td>14</td>\n",
       "      <td>22</td>\n",
       "      <td>71.285324</td>\n",
       "      <td>0.272118</td>\n",
       "      <td>78.04</td>\n",
       "      <td>2</td>\n",
       "      <td>31335.476824</td>\n",
       "      <td>3</td>\n",
       "      <td>0.424352</td>\n",
       "      <td>7570</td>\n",
       "    </tr>\n",
       "    <tr>\n",
       "      <th>1</th>\n",
       "      <td>Minor_Damage_And_Injuries</td>\n",
       "      <td>62.465753</td>\n",
       "      <td>10</td>\n",
       "      <td>27</td>\n",
       "      <td>72.288058</td>\n",
       "      <td>0.423939</td>\n",
       "      <td>84.54</td>\n",
       "      <td>2</td>\n",
       "      <td>26024.711057</td>\n",
       "      <td>2</td>\n",
       "      <td>0.352350</td>\n",
       "      <td>12128</td>\n",
       "    </tr>\n",
       "    <tr>\n",
       "      <th>2</th>\n",
       "      <td>Significant_Damage_And_Fatalities</td>\n",
       "      <td>63.059361</td>\n",
       "      <td>13</td>\n",
       "      <td>16</td>\n",
       "      <td>66.362808</td>\n",
       "      <td>0.322604</td>\n",
       "      <td>78.86</td>\n",
       "      <td>7</td>\n",
       "      <td>39269.053927</td>\n",
       "      <td>3</td>\n",
       "      <td>0.003364</td>\n",
       "      <td>2181</td>\n",
       "    </tr>\n",
       "    <tr>\n",
       "      <th>3</th>\n",
       "      <td>Significant_Damage_And_Serious_Injuries</td>\n",
       "      <td>48.082192</td>\n",
       "      <td>11</td>\n",
       "      <td>9</td>\n",
       "      <td>74.703737</td>\n",
       "      <td>0.337029</td>\n",
       "      <td>81.79</td>\n",
       "      <td>3</td>\n",
       "      <td>42771.499200</td>\n",
       "      <td>1</td>\n",
       "      <td>0.211728</td>\n",
       "      <td>5946</td>\n",
       "    </tr>\n",
       "    <tr>\n",
       "      <th>4</th>\n",
       "      <td>Significant_Damage_And_Fatalities</td>\n",
       "      <td>26.484018</td>\n",
       "      <td>13</td>\n",
       "      <td>25</td>\n",
       "      <td>47.948952</td>\n",
       "      <td>0.541140</td>\n",
       "      <td>77.16</td>\n",
       "      <td>3</td>\n",
       "      <td>35509.228515</td>\n",
       "      <td>2</td>\n",
       "      <td>0.176883</td>\n",
       "      <td>9054</td>\n",
       "    </tr>\n",
       "  </tbody>\n",
       "</table>\n",
       "</div>"
      ],
      "text/plain": [
       "                                  Severity  Safety_Score  \\\n",
       "0                Minor_Damage_And_Injuries     49.223744   \n",
       "1                Minor_Damage_And_Injuries     62.465753   \n",
       "2        Significant_Damage_And_Fatalities     63.059361   \n",
       "3  Significant_Damage_And_Serious_Injuries     48.082192   \n",
       "4        Significant_Damage_And_Fatalities     26.484018   \n",
       "\n",
       "   Days_Since_Inspection  Total_Safety_Complaints  Control_Metric  \\\n",
       "0                     14                       22       71.285324   \n",
       "1                     10                       27       72.288058   \n",
       "2                     13                       16       66.362808   \n",
       "3                     11                        9       74.703737   \n",
       "4                     13                       25       47.948952   \n",
       "\n",
       "   Turbulence_In_gforces  Cabin_Temperature  Accident_Type_Code  \\\n",
       "0               0.272118              78.04                   2   \n",
       "1               0.423939              84.54                   2   \n",
       "2               0.322604              78.86                   7   \n",
       "3               0.337029              81.79                   3   \n",
       "4               0.541140              77.16                   3   \n",
       "\n",
       "   Max_Elevation  Violations  Adverse_Weather_Metric  Accident_ID  \n",
       "0   31335.476824           3                0.424352         7570  \n",
       "1   26024.711057           2                0.352350        12128  \n",
       "2   39269.053927           3                0.003364         2181  \n",
       "3   42771.499200           1                0.211728         5946  \n",
       "4   35509.228515           2                0.176883         9054  "
      ]
     },
     "execution_count": 6,
     "metadata": {},
     "output_type": "execute_result"
    }
   ],
   "source": [
    "total.head()"
   ]
  },
  {
   "cell_type": "code",
   "execution_count": 7,
   "metadata": {},
   "outputs": [
    {
     "name": "stdout",
     "output_type": "stream",
     "text": [
      "<class 'pandas.core.frame.DataFrame'>\n",
      "Int64Index: 12500 entries, 0 to 2499\n",
      "Data columns (total 12 columns):\n",
      "Severity                   10000 non-null object\n",
      "Safety_Score               12500 non-null float64\n",
      "Days_Since_Inspection      12500 non-null int64\n",
      "Total_Safety_Complaints    12500 non-null int64\n",
      "Control_Metric             12500 non-null float64\n",
      "Turbulence_In_gforces      12500 non-null float64\n",
      "Cabin_Temperature          12500 non-null float64\n",
      "Accident_Type_Code         12500 non-null int64\n",
      "Max_Elevation              12500 non-null float64\n",
      "Violations                 12500 non-null int64\n",
      "Adverse_Weather_Metric     12500 non-null float64\n",
      "Accident_ID                12500 non-null int64\n",
      "dtypes: float64(6), int64(5), object(1)\n",
      "memory usage: 1.2+ MB\n"
     ]
    }
   ],
   "source": [
    "total.info()"
   ]
  },
  {
   "cell_type": "code",
   "execution_count": 8,
   "metadata": {},
   "outputs": [],
   "source": [
    "total['Safety_Score'] = total['Safety_Score'].astype('float32')\n",
    "total['Days_Since_Inspection'] = total['Days_Since_Inspection'].astype('int32')\n",
    "total['Total_Safety_Complaints'] = total['Total_Safety_Complaints'].astype('int32')\n",
    "total['Control_Metric'] = total['Control_Metric'].astype('float32')\n",
    "total['Turbulence_In_gforces'] = total['Turbulence_In_gforces'].astype('float32')\n",
    "total['Cabin_Temperature'] = total['Cabin_Temperature'].astype('float32')\n",
    "total['Accident_Type_Code'] = total['Accident_Type_Code'].astype('category')\n",
    "total['Max_Elevation'] = total['Max_Elevation'].astype('float32')\n",
    "total['Violations'] = total['Violations'].astype('category')\n",
    "total['Adverse_Weather_Metric'] = total['Adverse_Weather_Metric'].astype('float32')"
   ]
  },
  {
   "cell_type": "code",
   "execution_count": 9,
   "metadata": {},
   "outputs": [
    {
     "data": {
      "text/plain": [
       "Severity                       4\n",
       "Safety_Score                1195\n",
       "Days_Since_Inspection         23\n",
       "Total_Safety_Complaints       44\n",
       "Control_Metric               963\n",
       "Turbulence_In_gforces       1128\n",
       "Cabin_Temperature            964\n",
       "Accident_Type_Code             7\n",
       "Max_Elevation               4446\n",
       "Violations                     6\n",
       "Adverse_Weather_Metric      4556\n",
       "Accident_ID                12500\n",
       "dtype: int64"
      ]
     },
     "execution_count": 9,
     "metadata": {},
     "output_type": "execute_result"
    }
   ],
   "source": [
    "total.nunique()"
   ]
  },
  {
   "cell_type": "markdown",
   "metadata": {},
   "source": [
    "### Feature Engineering"
   ]
  },
  {
   "cell_type": "code",
   "execution_count": 10,
   "metadata": {},
   "outputs": [],
   "source": [
    "total['var1'] = total['Safety_Score']*total['Days_Since_Inspection']\n",
    "total['var2'] = total['Safety_Score']*total['Control_Metric']\n",
    "# total['var3'] = total['Safety_Score']*total['Turbulence_In_gforces']\n",
    "# total['var4'] = total['Safety_Score']*total['Cabin_Temperature']\n",
    "total['var5'] = total['Days_Since_Inspection']*total['Control_Metric']\n",
    "# total['var6'] = total['Days_Since_Inspection']*total['Cabin_Temperature']"
   ]
  },
  {
   "cell_type": "code",
   "execution_count": 11,
   "metadata": {},
   "outputs": [],
   "source": [
    "total['var7'] = total['Safety_Score']/total['Days_Since_Inspection']\n",
    "# total['var8'] = total['Safety_Score']/total['Total_Safety_Complaints']\n",
    "total['var9'] = (1+total['Control_Metric'])/(1+total['Safety_Score'])\n",
    "# total['var10'] = total['Safety_Score']/total['Turbulence_In_gforces']\n",
    "# total['var11'] = total['Safety_Score']/total['Cabin_Temperature']\n",
    "# total['var12'] = total['Safety_Score']/total['Adverse_Weather_Metric']\n",
    "total['var13'] = total['Days_Since_Inspection']/(1+total['Control_Metric'])\n",
    "# total['var14'] = total['Days_Since_Inspection']/total['Turbulence_In_gforces']\n",
    "# total['var15'] = total['Days_Since_Inspection']/total['Cabin_Temperature']\n",
    "# total['var16'] = total['Days_Since_Inspection']/total['Adverse_Weather_Metric']\n",
    "# total['var17'] = total['Total_Safety_Complaints']/total['Control_Metric']\n",
    "# total['var18'] = total['Control_Metric']/total['Turbulence_In_gforces']\n",
    "# total['var19'] = total['Control_Metric']/total['Cabin_Temperature']\n",
    "total['var20'] = total['Control_Metric']/total['Adverse_Weather_Metric']\n",
    "# total['var21'] = total['Turbulence_In_gforces']/total['Adverse_Weather_Metric']\n",
    "total['var22'] = total['Max_Elevation']/total['Adverse_Weather_Metric']"
   ]
  },
  {
   "cell_type": "markdown",
   "metadata": {},
   "source": [
    "### Creating Aggregate Features"
   ]
  },
  {
   "cell_type": "code",
   "execution_count": 12,
   "metadata": {},
   "outputs": [],
   "source": [
    "catcols=['Days_Since_Inspection','Accident_Type_Code','Violations']\n",
    "numcols=['var1','Control_Metric','Safety_Score','Max_Elevation','Adverse_Weather_Metric','Turbulence_In_gforces','Total_Safety_Complaints','Cabin_Temperature']\n",
    "stats=['median','max',np.ptp]"
   ]
  },
  {
   "cell_type": "code",
   "execution_count": 13,
   "metadata": {
    "scrolled": true
   },
   "outputs": [],
   "source": [
    "for i in catcols:\n",
    "    for j in numcols:\n",
    "        stats_df = total.groupby([i],sort=False)[j].agg(stats)\n",
    "        stats_df.columns = ['median_'+i+'_'+j,'max_'+i+'_'+j,\n",
    "                            'range_'+i+'_'+j]\n",
    "        total = total.merge(stats_df, left_on = i, right_index=True, how = 'left')"
   ]
  },
  {
   "cell_type": "code",
   "execution_count": 14,
   "metadata": {},
   "outputs": [
    {
     "data": {
      "text/plain": [
       "(12500, 92)"
      ]
     },
     "execution_count": 14,
     "metadata": {},
     "output_type": "execute_result"
    }
   ],
   "source": [
    "total.shape"
   ]
  },
  {
   "cell_type": "markdown",
   "metadata": {},
   "source": [
    "### Removing Correlated Features"
   ]
  },
  {
   "cell_type": "code",
   "execution_count": 15,
   "metadata": {},
   "outputs": [],
   "source": [
    "corr = total.corr()"
   ]
  },
  {
   "cell_type": "code",
   "execution_count": 16,
   "metadata": {},
   "outputs": [],
   "source": [
    "# Create correlation matrix\n",
    "corr_matrix = total.corr().abs()\n",
    "\n",
    "# Select upper triangle of correlation matrix\n",
    "upper = corr_matrix.where(np.triu(np.ones(corr_matrix.shape), k=1).astype(np.bool))\n",
    "\n",
    "# Find index of feature columns with correlation greater than 0.95\n",
    "to_drop = [column for column in upper.columns if any(upper[column] >=0.95)]"
   ]
  },
  {
   "cell_type": "code",
   "execution_count": 17,
   "metadata": {
    "scrolled": true
   },
   "outputs": [
    {
     "data": {
      "text/plain": [
       "['var2',\n",
       " 'var22',\n",
       " 'max_Days_Since_Inspection_var1',\n",
       " 'range_Days_Since_Inspection_var1',\n",
       " 'median_Days_Since_Inspection_Safety_Score',\n",
       " 'max_Days_Since_Inspection_Safety_Score',\n",
       " 'range_Days_Since_Inspection_Max_Elevation',\n",
       " 'range_Days_Since_Inspection_Adverse_Weather_Metric',\n",
       " 'range_Days_Since_Inspection_Turbulence_In_gforces',\n",
       " 'range_Days_Since_Inspection_Total_Safety_Complaints',\n",
       " 'range_Days_Since_Inspection_Cabin_Temperature',\n",
       " 'range_Accident_Type_Code_Control_Metric',\n",
       " 'median_Accident_Type_Code_Safety_Score',\n",
       " 'range_Accident_Type_Code_Safety_Score',\n",
       " 'range_Accident_Type_Code_Max_Elevation',\n",
       " 'median_Accident_Type_Code_Adverse_Weather_Metric',\n",
       " 'max_Accident_Type_Code_Adverse_Weather_Metric',\n",
       " 'range_Accident_Type_Code_Adverse_Weather_Metric',\n",
       " 'range_Accident_Type_Code_Turbulence_In_gforces',\n",
       " 'range_Accident_Type_Code_Total_Safety_Complaints',\n",
       " 'median_Accident_Type_Code_Cabin_Temperature',\n",
       " 'range_Accident_Type_Code_Cabin_Temperature',\n",
       " 'range_Violations_Safety_Score',\n",
       " 'range_Violations_Max_Elevation',\n",
       " 'max_Violations_Adverse_Weather_Metric',\n",
       " 'range_Violations_Adverse_Weather_Metric',\n",
       " 'range_Violations_Turbulence_In_gforces',\n",
       " 'max_Violations_Total_Safety_Complaints',\n",
       " 'range_Violations_Total_Safety_Complaints',\n",
       " 'max_Violations_Cabin_Temperature',\n",
       " 'range_Violations_Cabin_Temperature']"
      ]
     },
     "execution_count": 17,
     "metadata": {},
     "output_type": "execute_result"
    }
   ],
   "source": [
    "to_drop"
   ]
  },
  {
   "cell_type": "code",
   "execution_count": 18,
   "metadata": {},
   "outputs": [],
   "source": [
    "total1=pd.DataFrame()"
   ]
  },
  {
   "cell_type": "code",
   "execution_count": 19,
   "metadata": {},
   "outputs": [],
   "source": [
    "total1=total.drop(total[to_drop],axis=1)"
   ]
  },
  {
   "cell_type": "code",
   "execution_count": 20,
   "metadata": {},
   "outputs": [
    {
     "data": {
      "text/plain": [
       "61"
      ]
     },
     "execution_count": 20,
     "metadata": {},
     "output_type": "execute_result"
    }
   ],
   "source": [
    "len(total1.columns)"
   ]
  },
  {
   "cell_type": "markdown",
   "metadata": {},
   "source": [
    "### Feature Selection based on feature importances"
   ]
  },
  {
   "cell_type": "code",
   "execution_count": 93,
   "metadata": {},
   "outputs": [],
   "source": [
    "total1['var1'] = total['var1']\n",
    "total1['Control_Metric'] = total['Control_Metric'] \n",
    "total1['Safety_Score'] = total['Safety_Score']\n",
    "total1['max_Accident_Type_Code_Safety_Score'] = total['max_Accident_Type_Code_Safety_Score']\n",
    "\n",
    "# total1['var5'] = total['var5']\n",
    "total1['median_Days_Since_Inspection_var1'] = total['median_Days_Since_Inspection_var1']\n",
    "# total1['var9'] = total['var9']\n",
    "# total1['var2'] = total['var2']\n",
    "# total1['var13'] = total['var13']\n",
    "total1['range_Days_Since_Inspection_Safety_Score'] = total['range_Days_Since_Inspection_Safety_Score']\n",
    "# total1['range_Accident_Type_Code_var1'] = total['range_Accident_Type_Code_var1']\n",
    "# total1['std_Accident_Type_Code_Max_Elevation'] = total['std_Accident_Type_Code_Max_Elevation']\n",
    "# # total1['min_Days_Since_Inspection_Turbulence_In_gforces'] = total['min_Days_Since_Inspection_Turbulence_In_gforces']\n",
    "# # total1['max_Accident_Type_Code_Turbulence_In_gforces'] = total['max_Accident_Type_Code_Turbulence_In_gforces']\n",
    "# total1['var7'] = total['var7']"
   ]
  },
  {
   "cell_type": "code",
   "execution_count": 114,
   "metadata": {},
   "outputs": [],
   "source": [
    "d1 = pd.get_dummies(data=total1[feat],columns=['max_Accident_Type_Code_Safety_Score'],drop_first=True)"
   ]
  },
  {
   "cell_type": "code",
   "execution_count": 22,
   "metadata": {},
   "outputs": [],
   "source": [
    "train['Severity'].replace({'Minor_Damage_And_Injuries':1,\n",
    "               'Significant_Damage_And_Fatalities':3,\n",
    "               'Significant_Damage_And_Serious_Injuries':2,\n",
    "               'Highly_Fatal_And_Damaging':4},inplace=True)"
   ]
  },
  {
   "cell_type": "code",
   "execution_count": 23,
   "metadata": {},
   "outputs": [],
   "source": [
    "target = train['Severity']"
   ]
  },
  {
   "cell_type": "code",
   "execution_count": 62,
   "metadata": {},
   "outputs": [],
   "source": [
    "del d1['Severity']"
   ]
  },
  {
   "cell_type": "code",
   "execution_count": 63,
   "metadata": {},
   "outputs": [],
   "source": [
    "del d1['Accident_ID']"
   ]
  },
  {
   "cell_type": "code",
   "execution_count": 115,
   "metadata": {},
   "outputs": [],
   "source": [
    "l1=train.shape[0]\n",
    "train1=d1.iloc[:l1,:]\n",
    "test1=d1.iloc[l1:,:]"
   ]
  },
  {
   "cell_type": "code",
   "execution_count": 96,
   "metadata": {},
   "outputs": [],
   "source": [
    "# Trying Oversampling for balanced classification\n",
    "from imblearn.over_sampling import SMOTE\n",
    "sm = SMOTE()\n",
    "resampled_training_inputs, resampled_training_outputs_labels = sm.fit_resample(train1, target)"
   ]
  },
  {
   "cell_type": "code",
   "execution_count": 116,
   "metadata": {},
   "outputs": [
    {
     "name": "stdout",
     "output_type": "stream",
     "text": [
      "[[   1 2010]\n",
      " [   2 2213]\n",
      " [   3 1344]\n",
      " [   4 2433]]\n"
     ]
    }
   ],
   "source": [
    "unique, counts = np.unique(target_train_x0, return_counts=True)\n",
    "\n",
    "print (np.asarray((unique, counts)).T)"
   ]
  },
  {
   "cell_type": "code",
   "execution_count": 116,
   "metadata": {},
   "outputs": [
    {
     "data": {
      "text/plain": [
       "((10000, 8), (2500, 8))"
      ]
     },
     "execution_count": 116,
     "metadata": {},
     "output_type": "execute_result"
    }
   ],
   "source": [
    "train1.shape,test1.shape"
   ]
  },
  {
   "cell_type": "code",
   "execution_count": 117,
   "metadata": {
    "scrolled": true
   },
   "outputs": [
    {
     "data": {
      "text/plain": [
       "Index(['Safety_Score', 'Control_Metric', 'var1', 'var7', 'var9',\n",
       "       'median_Days_Since_Inspection_var1',\n",
       "       'max_Accident_Type_Code_Safety_Score_95.25114440917969',\n",
       "       'max_Accident_Type_Code_Safety_Score_100.0'],\n",
       "      dtype='object')"
      ]
     },
     "execution_count": 117,
     "metadata": {},
     "output_type": "execute_result"
    }
   ],
   "source": [
    "train1.columns"
   ]
  },
  {
   "cell_type": "code",
   "execution_count": 113,
   "metadata": {},
   "outputs": [],
   "source": [
    "from sklearn.model_selection import train_test_split\n",
    "train_x0, valid_x0, target_train_x0, target_valid_x0 = train_test_split(train1,\n",
    "                                                                        target,\n",
    "                                                                        test_size = 0.2, random_state = 1729)"
   ]
  },
  {
   "cell_type": "code",
   "execution_count": 117,
   "metadata": {},
   "outputs": [],
   "source": [
    "from sklearn.model_selection import KFold,StratifiedKFold,cross_val_score,RandomizedSearchCV\n",
    "folds=5\n",
    "skf = StratifiedKFold(n_splits=folds,shuffle=True,random_state=1729)"
   ]
  },
  {
   "cell_type": "code",
   "execution_count": 153,
   "metadata": {},
   "outputs": [],
   "source": [
    "from sklearn.ensemble import RandomForestClassifier\n",
    "clf = RandomForestClassifier(n_estimators=1000,random_state=1729,class_weight='balanced')\n",
    "model = clf.fit(train1[feat], target)\n",
    "pred_RF = model.predict(test1[feat])"
   ]
  },
  {
   "cell_type": "code",
   "execution_count": 140,
   "metadata": {},
   "outputs": [
    {
     "data": {
      "text/plain": [
       "0.9729154005498275"
      ]
     },
     "execution_count": 140,
     "metadata": {},
     "output_type": "execute_result"
    }
   ],
   "source": [
    "from sklearn.metrics import f1_score\n",
    "f1_score(target_valid_x0,pred_RF,average='weighted')"
   ]
  },
  {
   "cell_type": "code",
   "execution_count": 122,
   "metadata": {},
   "outputs": [
    {
     "data": {
      "text/html": [
       "<div>\n",
       "<style scoped>\n",
       "    .dataframe tbody tr th:only-of-type {\n",
       "        vertical-align: middle;\n",
       "    }\n",
       "\n",
       "    .dataframe tbody tr th {\n",
       "        vertical-align: top;\n",
       "    }\n",
       "\n",
       "    .dataframe thead th {\n",
       "        text-align: right;\n",
       "    }\n",
       "</style>\n",
       "<table border=\"1\" class=\"dataframe\">\n",
       "  <thead>\n",
       "    <tr style=\"text-align: right;\">\n",
       "      <th></th>\n",
       "      <th>feature</th>\n",
       "      <th>importance</th>\n",
       "    </tr>\n",
       "  </thead>\n",
       "  <tbody>\n",
       "    <tr>\n",
       "      <th>0</th>\n",
       "      <td>var1</td>\n",
       "      <td>0.341208</td>\n",
       "    </tr>\n",
       "    <tr>\n",
       "      <th>1</th>\n",
       "      <td>Control_Metric</td>\n",
       "      <td>0.146664</td>\n",
       "    </tr>\n",
       "    <tr>\n",
       "      <th>2</th>\n",
       "      <td>Safety_Score</td>\n",
       "      <td>0.100769</td>\n",
       "    </tr>\n",
       "    <tr>\n",
       "      <th>5</th>\n",
       "      <td>var9</td>\n",
       "      <td>0.086913</td>\n",
       "    </tr>\n",
       "    <tr>\n",
       "      <th>3</th>\n",
       "      <td>var5</td>\n",
       "      <td>0.072289</td>\n",
       "    </tr>\n",
       "    <tr>\n",
       "      <th>6</th>\n",
       "      <td>var13</td>\n",
       "      <td>0.067852</td>\n",
       "    </tr>\n",
       "    <tr>\n",
       "      <th>10</th>\n",
       "      <td>max_Accident_Type_Code_Safety_Score_100.0</td>\n",
       "      <td>0.050378</td>\n",
       "    </tr>\n",
       "    <tr>\n",
       "      <th>8</th>\n",
       "      <td>var7</td>\n",
       "      <td>0.046050</td>\n",
       "    </tr>\n",
       "    <tr>\n",
       "      <th>4</th>\n",
       "      <td>median_Days_Since_Inspection_var1</td>\n",
       "      <td>0.036074</td>\n",
       "    </tr>\n",
       "    <tr>\n",
       "      <th>9</th>\n",
       "      <td>max_Accident_Type_Code_Safety_Score_95.2511444...</td>\n",
       "      <td>0.032123</td>\n",
       "    </tr>\n",
       "    <tr>\n",
       "      <th>7</th>\n",
       "      <td>range_Days_Since_Inspection_Safety_Score</td>\n",
       "      <td>0.019681</td>\n",
       "    </tr>\n",
       "  </tbody>\n",
       "</table>\n",
       "</div>"
      ],
      "text/plain": [
       "                                              feature  importance\n",
       "0                                                var1    0.341208\n",
       "1                                      Control_Metric    0.146664\n",
       "2                                        Safety_Score    0.100769\n",
       "5                                                var9    0.086913\n",
       "3                                                var5    0.072289\n",
       "6                                               var13    0.067852\n",
       "10          max_Accident_Type_Code_Safety_Score_100.0    0.050378\n",
       "8                                                var7    0.046050\n",
       "4                   median_Days_Since_Inspection_var1    0.036074\n",
       "9   max_Accident_Type_Code_Safety_Score_95.2511444...    0.032123\n",
       "7            range_Days_Since_Inspection_Safety_Score    0.019681"
      ]
     },
     "execution_count": 122,
     "metadata": {},
     "output_type": "execute_result"
    }
   ],
   "source": [
    "feat_imp1 = pd.DataFrame(list(zip(train1,clf.feature_importances_)),columns =['feature','importance'])\n",
    "feat_imp1.sort_values(by='importance',inplace=True,ascending=False)\n",
    "# x=feat_imp[feat_imp['importance']==0]['feature'].tolist()\n",
    "# len(x)\n",
    "feat_imp1"
   ]
  },
  {
   "cell_type": "code",
   "execution_count": 258,
   "metadata": {},
   "outputs": [],
   "source": [
    "pred = model.predict(test1)"
   ]
  },
  {
   "cell_type": "code",
   "execution_count": 259,
   "metadata": {},
   "outputs": [
    {
     "data": {
      "text/plain": [
       "array([4, 3, 2, ..., 2, 2, 4], dtype=int64)"
      ]
     },
     "execution_count": 259,
     "metadata": {},
     "output_type": "execute_result"
    }
   ],
   "source": [
    "pred"
   ]
  },
  {
   "cell_type": "code",
   "execution_count": 147,
   "metadata": {},
   "outputs": [
    {
     "name": "stdout",
     "output_type": "stream",
     "text": [
      "      Iter       Train Loss   Remaining Time \n",
      "         1       11599.2778            4.33m\n",
      "         2       10099.6492            4.16m\n",
      "         3        8925.6165            4.19m\n",
      "         4        7989.5689            3.97m\n",
      "         5        7238.7474            4.01m\n",
      "         6        6600.5189            3.91m\n",
      "         7        6078.5852            3.87m\n",
      "         8        5667.2851            3.78m\n",
      "         9        5331.5568            3.82m\n",
      "        10        5032.5171            3.87m\n",
      "        20        3408.1802            3.66m\n",
      "        30        2742.3843            3.55m\n",
      "        40        2404.0791            3.64m\n",
      "        50        2161.9557            3.61m\n",
      "        60        1985.6913            3.58m\n",
      "        70        1838.5879            3.58m\n",
      "        80        1693.9100            3.55m\n",
      "        90        1597.7868            3.54m\n",
      "       100        1505.7705            3.50m\n",
      "       200         931.8957            3.45m\n",
      "       300         667.2024            3.37m\n",
      "       400         497.4414            3.24m\n",
      "       500         371.0789            3.13m\n",
      "       600         290.4364            3.07m\n",
      "       700         224.6478            3.05m\n",
      "       800         176.0056            3.08m\n",
      "       900         138.8169            3.17m\n",
      "      1000         110.3335            3.08m\n",
      "      2000          15.0269            2.25m\n",
      "      3000           3.5322            1.48m\n",
      "      4000           2.4231           40.60s\n",
      "      5000           2.2101            0.00s\n"
     ]
    }
   ],
   "source": [
    "# from sklearn.ensemble import RandomForestClassifier,GradientBoostingClassifier,BaggingClassifier\n",
    "g = GradientBoostingClassifier(n_estimators=5000,learning_rate=0.1,random_state=1729,verbose=1)#,n_iter_no_change=500)\n",
    "g.fit(train1[feat],target)\n",
    "pred_gb = g.predict(test1[feat])\n",
    "# proba_5000_6feat_8740764 = g.predict_proba(test1)#6294"
   ]
  },
  {
   "cell_type": "code",
   "execution_count": 112,
   "metadata": {},
   "outputs": [
    {
     "data": {
      "text/plain": [
       "GradientBoostingClassifier(ccp_alpha=0.0, criterion='friedman_mse', init=None,\n",
       "                           learning_rate=0.1, loss='deviance', max_depth=3,\n",
       "                           max_features=None, max_leaf_nodes=None,\n",
       "                           min_impurity_decrease=0.0, min_impurity_split=None,\n",
       "                           min_samples_leaf=1, min_samples_split=2,\n",
       "                           min_weight_fraction_leaf=0.0, n_estimators=10000,\n",
       "                           n_iter_no_change=500, presort='deprecated',\n",
       "                           random_state=1729, subsample=1.0, tol=0.0001,\n",
       "                           validation_fraction=0.2, verbose=10,\n",
       "                           warm_start=False)"
      ]
     },
     "execution_count": 112,
     "metadata": {},
     "output_type": "execute_result"
    }
   ],
   "source": [
    "g"
   ]
  },
  {
   "cell_type": "code",
   "execution_count": null,
   "metadata": {},
   "outputs": [],
   "source": [
    "proba_gb_10feat_8749621"
   ]
  },
  {
   "cell_type": "markdown",
   "metadata": {},
   "source": [
    "### Calculating Harmonic Mean of probabilities of 3 types of Combinations (3, 7 and 10 features)"
   ]
  },
  {
   "cell_type": "code",
   "execution_count": 100,
   "metadata": {},
   "outputs": [],
   "source": [
    "from scipy.stats import hmean\n",
    "ensemble0010307 = np.argmax(hmean([proba_5211_3feat,proba_6007_7feat,proba_gb_10feat_8749621], axis = 0),axis=1)                              "
   ]
  },
  {
   "cell_type": "code",
   "execution_count": 215,
   "metadata": {},
   "outputs": [
    {
     "data": {
      "text/plain": [
       "array([4, 3, 2, ..., 2, 2, 4], dtype=int64)"
      ]
     },
     "execution_count": 215,
     "metadata": {},
     "output_type": "execute_result"
    }
   ],
   "source": [
    "pred_gb"
   ]
  },
  {
   "cell_type": "code",
   "execution_count": 102,
   "metadata": {},
   "outputs": [
    {
     "data": {
      "text/plain": [
       "array([3, 2, 1, ..., 1, 1, 3], dtype=int64)"
      ]
     },
     "execution_count": 102,
     "metadata": {},
     "output_type": "execute_result"
    }
   ],
   "source": [
    "ensemble0010307"
   ]
  },
  {
   "cell_type": "code",
   "execution_count": 118,
   "metadata": {},
   "outputs": [],
   "source": [
    "from sklearn.model_selection import cross_val_score\n",
    "mod = GradientBoostingClassifier(n_estimators=7000,learning_rate=0.1,random_state=1729,verbose=1)\n",
    "score = cross_val_score(estimator=mod,X=train1,y=target,cv=skf,scoring='f1_weighted',n_jobs=5)"
   ]
  },
  {
   "cell_type": "code",
   "execution_count": 95,
   "metadata": {},
   "outputs": [
    {
     "data": {
      "text/plain": [
       "array([0.96947189, 0.96697613, 0.96999221, 0.97001006, 0.97651201])"
      ]
     },
     "execution_count": 95,
     "metadata": {},
     "output_type": "execute_result"
    }
   ],
   "source": [
    "score"
   ]
  },
  {
   "cell_type": "code",
   "execution_count": 55,
   "metadata": {},
   "outputs": [
    {
     "data": {
      "text/plain": [
       "array([0.97000187, 0.96951037, 0.97149812, 0.97201506, 0.97898509])"
      ]
     },
     "execution_count": 55,
     "metadata": {},
     "output_type": "execute_result"
    }
   ],
   "source": [
    "score"
   ]
  },
  {
   "cell_type": "code",
   "execution_count": 96,
   "metadata": {},
   "outputs": [
    {
     "name": "stdout",
     "output_type": "stream",
     "text": [
      "Mean Score: 0.9705924595217109 Std score: 0.00316461797056724\n"
     ]
    }
   ],
   "source": [
    "print('Mean Score:',score.mean(),'Std score:',score.std())"
   ]
  },
  {
   "cell_type": "code",
   "execution_count": 56,
   "metadata": {},
   "outputs": [
    {
     "name": "stdout",
     "output_type": "stream",
     "text": [
      "Mean Score: 0.9724021002214954 Std score: 0.0034183598118535607\n"
     ]
    }
   ],
   "source": [
    "print('Mean Score:',score.mean(),'Std score:',score.std())"
   ]
  },
  {
   "cell_type": "code",
   "execution_count": 148,
   "metadata": {},
   "outputs": [
    {
     "data": {
      "text/plain": [
       "<matplotlib.axes._subplots.AxesSubplot at 0x19e5e153a58>"
      ]
     },
     "execution_count": 148,
     "metadata": {},
     "output_type": "execute_result"
    },
    {
     "data": {
      "image/png": "[encoded data removed]",
      "text/plain": [
       "<Figure size 432x288 with 1 Axes>"
      ]
     },
     "metadata": {
      "needs_background": "light"
     },
     "output_type": "display_data"
    }
   ],
   "source": [
    "feat_importances = pd.Series(g.feature_importances_, index=train1[feat].columns)\n",
    "feat_importances.nlargest(20).plot(kind='barh')"
   ]
  },
  {
   "cell_type": "code",
   "execution_count": 59,
   "metadata": {
    "scrolled": true
   },
   "outputs": [
    {
     "data": {
      "text/html": [
       "<div>\n",
       "<style scoped>\n",
       "    .dataframe tbody tr th:only-of-type {\n",
       "        vertical-align: middle;\n",
       "    }\n",
       "\n",
       "    .dataframe tbody tr th {\n",
       "        vertical-align: top;\n",
       "    }\n",
       "\n",
       "    .dataframe thead th {\n",
       "        text-align: right;\n",
       "    }\n",
       "</style>\n",
       "<table border=\"1\" class=\"dataframe\">\n",
       "  <thead>\n",
       "    <tr style=\"text-align: right;\">\n",
       "      <th></th>\n",
       "      <th>feature</th>\n",
       "      <th>importance</th>\n",
       "    </tr>\n",
       "  </thead>\n",
       "  <tbody>\n",
       "    <tr>\n",
       "      <th>4</th>\n",
       "      <td>var1</td>\n",
       "      <td>0.522677</td>\n",
       "    </tr>\n",
       "    <tr>\n",
       "      <th>2</th>\n",
       "      <td>Control_Metric</td>\n",
       "      <td>0.251864</td>\n",
       "    </tr>\n",
       "    <tr>\n",
       "      <th>14</th>\n",
       "      <td>max_Accident_Type_Code_Safety_Score_100.0</td>\n",
       "      <td>0.059663</td>\n",
       "    </tr>\n",
       "    <tr>\n",
       "      <th>0</th>\n",
       "      <td>Safety_Score</td>\n",
       "      <td>0.052712</td>\n",
       "    </tr>\n",
       "    <tr>\n",
       "      <th>10</th>\n",
       "      <td>median_Days_Since_Inspection_var1</td>\n",
       "      <td>0.020801</td>\n",
       "    </tr>\n",
       "    <tr>\n",
       "      <th>7</th>\n",
       "      <td>var9</td>\n",
       "      <td>0.017690</td>\n",
       "    </tr>\n",
       "    <tr>\n",
       "      <th>12</th>\n",
       "      <td>range_Accident_Type_Code_var1</td>\n",
       "      <td>0.015875</td>\n",
       "    </tr>\n",
       "    <tr>\n",
       "      <th>6</th>\n",
       "      <td>var7</td>\n",
       "      <td>0.013262</td>\n",
       "    </tr>\n",
       "    <tr>\n",
       "      <th>8</th>\n",
       "      <td>var13</td>\n",
       "      <td>0.010470</td>\n",
       "    </tr>\n",
       "    <tr>\n",
       "      <th>11</th>\n",
       "      <td>range_Days_Since_Inspection_Safety_Score</td>\n",
       "      <td>0.008717</td>\n",
       "    </tr>\n",
       "    <tr>\n",
       "      <th>5</th>\n",
       "      <td>var5</td>\n",
       "      <td>0.006781</td>\n",
       "    </tr>\n",
       "    <tr>\n",
       "      <th>1</th>\n",
       "      <td>Days_Since_Inspection</td>\n",
       "      <td>0.005102</td>\n",
       "    </tr>\n",
       "    <tr>\n",
       "      <th>9</th>\n",
       "      <td>var20</td>\n",
       "      <td>0.004974</td>\n",
       "    </tr>\n",
       "    <tr>\n",
       "      <th>13</th>\n",
       "      <td>max_Accident_Type_Code_Turbulence_In_gforces</td>\n",
       "      <td>0.004790</td>\n",
       "    </tr>\n",
       "    <tr>\n",
       "      <th>3</th>\n",
       "      <td>Turbulence_In_gforces</td>\n",
       "      <td>0.004623</td>\n",
       "    </tr>\n",
       "  </tbody>\n",
       "</table>\n",
       "</div>"
      ],
      "text/plain": [
       "                                         feature  importance\n",
       "4                                           var1    0.522677\n",
       "2                                 Control_Metric    0.251864\n",
       "14     max_Accident_Type_Code_Safety_Score_100.0    0.059663\n",
       "0                                   Safety_Score    0.052712\n",
       "10             median_Days_Since_Inspection_var1    0.020801\n",
       "7                                           var9    0.017690\n",
       "12                 range_Accident_Type_Code_var1    0.015875\n",
       "6                                           var7    0.013262\n",
       "8                                          var13    0.010470\n",
       "11      range_Days_Since_Inspection_Safety_Score    0.008717\n",
       "5                                           var5    0.006781\n",
       "1                          Days_Since_Inspection    0.005102\n",
       "9                                          var20    0.004974\n",
       "13  max_Accident_Type_Code_Turbulence_In_gforces    0.004790\n",
       "3                          Turbulence_In_gforces    0.004623"
      ]
     },
     "execution_count": 59,
     "metadata": {},
     "output_type": "execute_result"
    }
   ],
   "source": [
    "feat_imp = pd.DataFrame(list(zip(train1[feat],g.feature_importances_)),columns =['feature','importance'])\n",
    "feat_imp.sort_values(by='importance',inplace=True,ascending=False)\n",
    "# x=feat_imp[feat_imp['importance']==0]['feature'].tolist()\n",
    "# len(x)\n",
    "feat_imp"
   ]
  },
  {
   "cell_type": "code",
   "execution_count": 126,
   "metadata": {
    "scrolled": true
   },
   "outputs": [
    {
     "data": {
      "text/html": [
       "<div>\n",
       "<style scoped>\n",
       "    .dataframe tbody tr th:only-of-type {\n",
       "        vertical-align: middle;\n",
       "    }\n",
       "\n",
       "    .dataframe tbody tr th {\n",
       "        vertical-align: top;\n",
       "    }\n",
       "\n",
       "    .dataframe thead th {\n",
       "        text-align: right;\n",
       "    }\n",
       "</style>\n",
       "<table border=\"1\" class=\"dataframe\">\n",
       "  <thead>\n",
       "    <tr style=\"text-align: right;\">\n",
       "      <th></th>\n",
       "      <th>feature</th>\n",
       "      <th>importance</th>\n",
       "    </tr>\n",
       "  </thead>\n",
       "  <tbody>\n",
       "    <tr>\n",
       "      <th>0</th>\n",
       "      <td>var1</td>\n",
       "      <td>0.515734</td>\n",
       "    </tr>\n",
       "    <tr>\n",
       "      <th>1</th>\n",
       "      <td>Control_Metric</td>\n",
       "      <td>0.257136</td>\n",
       "    </tr>\n",
       "    <tr>\n",
       "      <th>3</th>\n",
       "      <td>max_Accident_Type_Code_Safety_Score</td>\n",
       "      <td>0.062453</td>\n",
       "    </tr>\n",
       "    <tr>\n",
       "      <th>2</th>\n",
       "      <td>Safety_Score</td>\n",
       "      <td>0.050043</td>\n",
       "    </tr>\n",
       "    <tr>\n",
       "      <th>9</th>\n",
       "      <td>range_Days_Since_Inspection_Safety_Score</td>\n",
       "      <td>0.024025</td>\n",
       "    </tr>\n",
       "    <tr>\n",
       "      <th>5</th>\n",
       "      <td>var9</td>\n",
       "      <td>0.020035</td>\n",
       "    </tr>\n",
       "    <tr>\n",
       "      <th>7</th>\n",
       "      <td>var13</td>\n",
       "      <td>0.016522</td>\n",
       "    </tr>\n",
       "    <tr>\n",
       "      <th>10</th>\n",
       "      <td>std_Accident_Type_Code_Max_Elevation</td>\n",
       "      <td>0.015150</td>\n",
       "    </tr>\n",
       "    <tr>\n",
       "      <th>8</th>\n",
       "      <td>var7</td>\n",
       "      <td>0.015020</td>\n",
       "    </tr>\n",
       "    <tr>\n",
       "      <th>6</th>\n",
       "      <td>var2</td>\n",
       "      <td>0.013919</td>\n",
       "    </tr>\n",
       "    <tr>\n",
       "      <th>4</th>\n",
       "      <td>var5</td>\n",
       "      <td>0.009963</td>\n",
       "    </tr>\n",
       "  </tbody>\n",
       "</table>\n",
       "</div>"
      ],
      "text/plain": [
       "                                     feature  importance\n",
       "0                                       var1    0.515734\n",
       "1                             Control_Metric    0.257136\n",
       "3        max_Accident_Type_Code_Safety_Score    0.062453\n",
       "2                               Safety_Score    0.050043\n",
       "9   range_Days_Since_Inspection_Safety_Score    0.024025\n",
       "5                                       var9    0.020035\n",
       "7                                      var13    0.016522\n",
       "10      std_Accident_Type_Code_Max_Elevation    0.015150\n",
       "8                                       var7    0.015020\n",
       "6                                       var2    0.013919\n",
       "4                                       var5    0.009963"
      ]
     },
     "execution_count": 126,
     "metadata": {},
     "output_type": "execute_result"
    }
   ],
   "source": [
    "feat_imp = pd.DataFrame(list(zip(train_x0,g.feature_importances_)),columns =['feature','importance'])\n",
    "feat_imp.sort_values(by='importance',inplace=True,ascending=False)\n",
    "# x=feat_imp[feat_imp['importance']==0]['feature'].tolist()\n",
    "# len(x)\n",
    "feat_imp"
   ]
  },
  {
   "cell_type": "code",
   "execution_count": 257,
   "metadata": {},
   "outputs": [],
   "source": [
    "x=feat_imp['feature'][:10]"
   ]
  },
  {
   "cell_type": "code",
   "execution_count": 176,
   "metadata": {
    "scrolled": false
   },
   "outputs": [
    {
     "data": {
      "text/plain": [
       "<matplotlib.axes._subplots.AxesSubplot at 0x277cef56c50>"
      ]
     },
     "execution_count": 176,
     "metadata": {},
     "output_type": "execute_result"
    },
    {
     "data": {
      "image/png": "[encoded data removed]",
      "text/plain": [
       "<Figure size 720x1440 with 1 Axes>"
      ]
     },
     "metadata": {
      "needs_background": "light"
     },
     "output_type": "display_data"
    }
   ],
   "source": [
    "plt.figure(figsize=(10,20))\n",
    "\n",
    "feat_importances = pd.Series(g.feature_importances_, index=train_x0.columns)\n",
    "feat_importances.nlargest(30).plot(kind='barh')"
   ]
  },
  {
   "cell_type": "code",
   "execution_count": 213,
   "metadata": {
    "scrolled": true
   },
   "outputs": [
    {
     "data": {
      "text/html": [
       "<div>\n",
       "<style scoped>\n",
       "    .dataframe tbody tr th:only-of-type {\n",
       "        vertical-align: middle;\n",
       "    }\n",
       "\n",
       "    .dataframe tbody tr th {\n",
       "        vertical-align: top;\n",
       "    }\n",
       "\n",
       "    .dataframe thead th {\n",
       "        text-align: right;\n",
       "    }\n",
       "</style>\n",
       "<table border=\"1\" class=\"dataframe\">\n",
       "  <thead>\n",
       "    <tr style=\"text-align: right;\">\n",
       "      <th></th>\n",
       "      <th>feature</th>\n",
       "      <th>importance</th>\n",
       "    </tr>\n",
       "  </thead>\n",
       "  <tbody>\n",
       "    <tr>\n",
       "      <th>8</th>\n",
       "      <td>var1</td>\n",
       "      <td>5.020077e-01</td>\n",
       "    </tr>\n",
       "    <tr>\n",
       "      <th>2</th>\n",
       "      <td>Control_Metric</td>\n",
       "      <td>2.565946e-01</td>\n",
       "    </tr>\n",
       "    <tr>\n",
       "      <th>93</th>\n",
       "      <td>mad_Accident_Type_Code_Safety_Score</td>\n",
       "      <td>2.786935e-02</td>\n",
       "    </tr>\n",
       "    <tr>\n",
       "      <th>0</th>\n",
       "      <td>Safety_Score</td>\n",
       "      <td>2.622729e-02</td>\n",
       "    </tr>\n",
       "    <tr>\n",
       "      <th>79</th>\n",
       "      <td>mad_Accident_Type_Code_var1</td>\n",
       "      <td>2.090183e-02</td>\n",
       "    </tr>\n",
       "    <tr>\n",
       "      <th>10</th>\n",
       "      <td>var4</td>\n",
       "      <td>2.072162e-02</td>\n",
       "    </tr>\n",
       "    <tr>\n",
       "      <th>91</th>\n",
       "      <td>max_Accident_Type_Code_Safety_Score</td>\n",
       "      <td>2.053863e-02</td>\n",
       "    </tr>\n",
       "    <tr>\n",
       "      <th>19</th>\n",
       "      <td>median_Days_Since_Inspection_var1</td>\n",
       "      <td>1.936981e-02</td>\n",
       "    </tr>\n",
       "    <tr>\n",
       "      <th>13</th>\n",
       "      <td>var9</td>\n",
       "      <td>1.677282e-02</td>\n",
       "    </tr>\n",
       "    <tr>\n",
       "      <th>9</th>\n",
       "      <td>var2</td>\n",
       "      <td>1.191837e-02</td>\n",
       "    </tr>\n",
       "    <tr>\n",
       "      <th>14</th>\n",
       "      <td>var13</td>\n",
       "      <td>7.344860e-03</td>\n",
       "    </tr>\n",
       "    <tr>\n",
       "      <th>12</th>\n",
       "      <td>var7</td>\n",
       "      <td>5.810355e-03</td>\n",
       "    </tr>\n",
       "    <tr>\n",
       "      <th>11</th>\n",
       "      <td>var5</td>\n",
       "      <td>5.788116e-03</td>\n",
       "    </tr>\n",
       "    <tr>\n",
       "      <th>97</th>\n",
       "      <td>std_Accident_Type_Code_Max_Elevation</td>\n",
       "      <td>4.512035e-03</td>\n",
       "    </tr>\n",
       "    <tr>\n",
       "      <th>78</th>\n",
       "      <td>min_Accident_Type_Code_var1</td>\n",
       "      <td>4.179981e-03</td>\n",
       "    </tr>\n",
       "    <tr>\n",
       "      <th>95</th>\n",
       "      <td>mean_Accident_Type_Code_Max_Elevation</td>\n",
       "      <td>4.149853e-03</td>\n",
       "    </tr>\n",
       "    <tr>\n",
       "      <th>15</th>\n",
       "      <td>var15</td>\n",
       "      <td>4.091569e-03</td>\n",
       "    </tr>\n",
       "    <tr>\n",
       "      <th>70</th>\n",
       "      <td>max_Days_Since_Inspection_Cabin_Temperature</td>\n",
       "      <td>3.352683e-03</td>\n",
       "    </tr>\n",
       "    <tr>\n",
       "      <th>3</th>\n",
       "      <td>Turbulence_In_gforces</td>\n",
       "      <td>3.224706e-03</td>\n",
       "    </tr>\n",
       "    <tr>\n",
       "      <th>112</th>\n",
       "      <td>max_Accident_Type_Code_Turbulence_In_gforces</td>\n",
       "      <td>2.289296e-03</td>\n",
       "    </tr>\n",
       "    <tr>\n",
       "      <th>16</th>\n",
       "      <td>var20</td>\n",
       "      <td>2.067929e-03</td>\n",
       "    </tr>\n",
       "    <tr>\n",
       "      <th>17</th>\n",
       "      <td>var22</td>\n",
       "      <td>1.934249e-03</td>\n",
       "    </tr>\n",
       "    <tr>\n",
       "      <th>83</th>\n",
       "      <td>std_Accident_Type_Code_Control_Metric</td>\n",
       "      <td>1.452300e-03</td>\n",
       "    </tr>\n",
       "    <tr>\n",
       "      <th>5</th>\n",
       "      <td>Max_Elevation</td>\n",
       "      <td>1.303061e-03</td>\n",
       "    </tr>\n",
       "    <tr>\n",
       "      <th>57</th>\n",
       "      <td>min_Days_Since_Inspection_Turbulence_In_gforces</td>\n",
       "      <td>1.277100e-03</td>\n",
       "    </tr>\n",
       "    <tr>\n",
       "      <th>1</th>\n",
       "      <td>Total_Safety_Complaints</td>\n",
       "      <td>1.232244e-03</td>\n",
       "    </tr>\n",
       "    <tr>\n",
       "      <th>67</th>\n",
       "      <td>mean_Days_Since_Inspection_Cabin_Temperature</td>\n",
       "      <td>1.140883e-03</td>\n",
       "    </tr>\n",
       "    <tr>\n",
       "      <th>88</th>\n",
       "      <td>mean_Accident_Type_Code_Safety_Score</td>\n",
       "      <td>1.090932e-03</td>\n",
       "    </tr>\n",
       "    <tr>\n",
       "      <th>7</th>\n",
       "      <td>Adverse_Weather_Metric</td>\n",
       "      <td>1.069312e-03</td>\n",
       "    </tr>\n",
       "    <tr>\n",
       "      <th>23</th>\n",
       "      <td>mad_Days_Since_Inspection_var1</td>\n",
       "      <td>9.562740e-04</td>\n",
       "    </tr>\n",
       "    <tr>\n",
       "      <th>...</th>\n",
       "      <td>...</td>\n",
       "      <td>...</td>\n",
       "    </tr>\n",
       "    <tr>\n",
       "      <th>117</th>\n",
       "      <td>median_Accident_Type_Code_Total_Safety_Complaints</td>\n",
       "      <td>3.606404e-06</td>\n",
       "    </tr>\n",
       "    <tr>\n",
       "      <th>192</th>\n",
       "      <td>Accident_Type_Code_7</td>\n",
       "      <td>3.262892e-06</td>\n",
       "    </tr>\n",
       "    <tr>\n",
       "      <th>154</th>\n",
       "      <td>max_Violations_Max_Elevation</td>\n",
       "      <td>3.180454e-06</td>\n",
       "    </tr>\n",
       "    <tr>\n",
       "      <th>210</th>\n",
       "      <td>Days_Since_Inspection_18</td>\n",
       "      <td>2.946699e-06</td>\n",
       "    </tr>\n",
       "    <tr>\n",
       "      <th>149</th>\n",
       "      <td>mad_Violations_Safety_Score</td>\n",
       "      <td>2.936319e-06</td>\n",
       "    </tr>\n",
       "    <tr>\n",
       "      <th>103</th>\n",
       "      <td>median_Accident_Type_Code_Adverse_Weather_Metric</td>\n",
       "      <td>2.160365e-06</td>\n",
       "    </tr>\n",
       "    <tr>\n",
       "      <th>200</th>\n",
       "      <td>Days_Since_Inspection_8</td>\n",
       "      <td>1.899362e-06</td>\n",
       "    </tr>\n",
       "    <tr>\n",
       "      <th>152</th>\n",
       "      <td>median_Violations_Max_Elevation</td>\n",
       "      <td>1.338577e-06</td>\n",
       "    </tr>\n",
       "    <tr>\n",
       "      <th>113</th>\n",
       "      <td>min_Accident_Type_Code_Turbulence_In_gforces</td>\n",
       "      <td>8.119169e-07</td>\n",
       "    </tr>\n",
       "    <tr>\n",
       "      <th>209</th>\n",
       "      <td>Days_Since_Inspection_17</td>\n",
       "      <td>6.017146e-07</td>\n",
       "    </tr>\n",
       "    <tr>\n",
       "      <th>164</th>\n",
       "      <td>count_Violations_Adverse_Weather_Metric</td>\n",
       "      <td>5.874186e-07</td>\n",
       "    </tr>\n",
       "    <tr>\n",
       "      <th>208</th>\n",
       "      <td>Days_Since_Inspection_16</td>\n",
       "      <td>5.213179e-07</td>\n",
       "    </tr>\n",
       "    <tr>\n",
       "      <th>190</th>\n",
       "      <td>Accident_Type_Code_5</td>\n",
       "      <td>3.315487e-07</td>\n",
       "    </tr>\n",
       "    <tr>\n",
       "      <th>207</th>\n",
       "      <td>Days_Since_Inspection_15</td>\n",
       "      <td>2.874500e-07</td>\n",
       "    </tr>\n",
       "    <tr>\n",
       "      <th>143</th>\n",
       "      <td>count_Violations_Control_Metric</td>\n",
       "      <td>2.439279e-07</td>\n",
       "    </tr>\n",
       "    <tr>\n",
       "      <th>161</th>\n",
       "      <td>max_Violations_Adverse_Weather_Metric</td>\n",
       "      <td>2.302026e-07</td>\n",
       "    </tr>\n",
       "    <tr>\n",
       "      <th>107</th>\n",
       "      <td>mad_Accident_Type_Code_Adverse_Weather_Metric</td>\n",
       "      <td>1.778131e-07</td>\n",
       "    </tr>\n",
       "    <tr>\n",
       "      <th>159</th>\n",
       "      <td>median_Violations_Adverse_Weather_Metric</td>\n",
       "      <td>1.023391e-07</td>\n",
       "    </tr>\n",
       "    <tr>\n",
       "      <th>175</th>\n",
       "      <td>max_Violations_Total_Safety_Complaints</td>\n",
       "      <td>5.569596e-08</td>\n",
       "    </tr>\n",
       "    <tr>\n",
       "      <th>211</th>\n",
       "      <td>Days_Since_Inspection_19</td>\n",
       "      <td>3.312897e-08</td>\n",
       "    </tr>\n",
       "    <tr>\n",
       "      <th>196</th>\n",
       "      <td>Days_Since_Inspection_4</td>\n",
       "      <td>1.305281e-08</td>\n",
       "    </tr>\n",
       "    <tr>\n",
       "      <th>168</th>\n",
       "      <td>max_Violations_Turbulence_In_gforces</td>\n",
       "      <td>2.873492e-09</td>\n",
       "    </tr>\n",
       "    <tr>\n",
       "      <th>64</th>\n",
       "      <td>min_Days_Since_Inspection_Total_Safety_Complaints</td>\n",
       "      <td>0.000000e+00</td>\n",
       "    </tr>\n",
       "    <tr>\n",
       "      <th>194</th>\n",
       "      <td>Days_Since_Inspection_2</td>\n",
       "      <td>0.000000e+00</td>\n",
       "    </tr>\n",
       "    <tr>\n",
       "      <th>197</th>\n",
       "      <td>Days_Since_Inspection_5</td>\n",
       "      <td>0.000000e+00</td>\n",
       "    </tr>\n",
       "    <tr>\n",
       "      <th>193</th>\n",
       "      <td>Days_Since_Inspection_1</td>\n",
       "      <td>0.000000e+00</td>\n",
       "    </tr>\n",
       "    <tr>\n",
       "      <th>120</th>\n",
       "      <td>min_Accident_Type_Code_Total_Safety_Complaints</td>\n",
       "      <td>0.000000e+00</td>\n",
       "    </tr>\n",
       "    <tr>\n",
       "      <th>169</th>\n",
       "      <td>min_Violations_Turbulence_In_gforces</td>\n",
       "      <td>0.000000e+00</td>\n",
       "    </tr>\n",
       "    <tr>\n",
       "      <th>176</th>\n",
       "      <td>min_Violations_Total_Safety_Complaints</td>\n",
       "      <td>0.000000e+00</td>\n",
       "    </tr>\n",
       "    <tr>\n",
       "      <th>215</th>\n",
       "      <td>Days_Since_Inspection_23</td>\n",
       "      <td>0.000000e+00</td>\n",
       "    </tr>\n",
       "  </tbody>\n",
       "</table>\n",
       "<p>216 rows × 2 columns</p>\n",
       "</div>"
      ],
      "text/plain": [
       "                                               feature    importance\n",
       "8                                                 var1  5.020077e-01\n",
       "2                                       Control_Metric  2.565946e-01\n",
       "93                 mad_Accident_Type_Code_Safety_Score  2.786935e-02\n",
       "0                                         Safety_Score  2.622729e-02\n",
       "79                         mad_Accident_Type_Code_var1  2.090183e-02\n",
       "10                                                var4  2.072162e-02\n",
       "91                 max_Accident_Type_Code_Safety_Score  2.053863e-02\n",
       "19                   median_Days_Since_Inspection_var1  1.936981e-02\n",
       "13                                                var9  1.677282e-02\n",
       "9                                                 var2  1.191837e-02\n",
       "14                                               var13  7.344860e-03\n",
       "12                                                var7  5.810355e-03\n",
       "11                                                var5  5.788116e-03\n",
       "97                std_Accident_Type_Code_Max_Elevation  4.512035e-03\n",
       "78                         min_Accident_Type_Code_var1  4.179981e-03\n",
       "95               mean_Accident_Type_Code_Max_Elevation  4.149853e-03\n",
       "15                                               var15  4.091569e-03\n",
       "70         max_Days_Since_Inspection_Cabin_Temperature  3.352683e-03\n",
       "3                                Turbulence_In_gforces  3.224706e-03\n",
       "112       max_Accident_Type_Code_Turbulence_In_gforces  2.289296e-03\n",
       "16                                               var20  2.067929e-03\n",
       "17                                               var22  1.934249e-03\n",
       "83               std_Accident_Type_Code_Control_Metric  1.452300e-03\n",
       "5                                        Max_Elevation  1.303061e-03\n",
       "57     min_Days_Since_Inspection_Turbulence_In_gforces  1.277100e-03\n",
       "1                              Total_Safety_Complaints  1.232244e-03\n",
       "67        mean_Days_Since_Inspection_Cabin_Temperature  1.140883e-03\n",
       "88                mean_Accident_Type_Code_Safety_Score  1.090932e-03\n",
       "7                               Adverse_Weather_Metric  1.069312e-03\n",
       "23                      mad_Days_Since_Inspection_var1  9.562740e-04\n",
       "..                                                 ...           ...\n",
       "117  median_Accident_Type_Code_Total_Safety_Complaints  3.606404e-06\n",
       "192                               Accident_Type_Code_7  3.262892e-06\n",
       "154                       max_Violations_Max_Elevation  3.180454e-06\n",
       "210                           Days_Since_Inspection_18  2.946699e-06\n",
       "149                        mad_Violations_Safety_Score  2.936319e-06\n",
       "103   median_Accident_Type_Code_Adverse_Weather_Metric  2.160365e-06\n",
       "200                            Days_Since_Inspection_8  1.899362e-06\n",
       "152                    median_Violations_Max_Elevation  1.338577e-06\n",
       "113       min_Accident_Type_Code_Turbulence_In_gforces  8.119169e-07\n",
       "209                           Days_Since_Inspection_17  6.017146e-07\n",
       "164            count_Violations_Adverse_Weather_Metric  5.874186e-07\n",
       "208                           Days_Since_Inspection_16  5.213179e-07\n",
       "190                               Accident_Type_Code_5  3.315487e-07\n",
       "207                           Days_Since_Inspection_15  2.874500e-07\n",
       "143                    count_Violations_Control_Metric  2.439279e-07\n",
       "161              max_Violations_Adverse_Weather_Metric  2.302026e-07\n",
       "107      mad_Accident_Type_Code_Adverse_Weather_Metric  1.778131e-07\n",
       "159           median_Violations_Adverse_Weather_Metric  1.023391e-07\n",
       "175             max_Violations_Total_Safety_Complaints  5.569596e-08\n",
       "211                           Days_Since_Inspection_19  3.312897e-08\n",
       "196                            Days_Since_Inspection_4  1.305281e-08\n",
       "168               max_Violations_Turbulence_In_gforces  2.873492e-09\n",
       "64   min_Days_Since_Inspection_Total_Safety_Complaints  0.000000e+00\n",
       "194                            Days_Since_Inspection_2  0.000000e+00\n",
       "197                            Days_Since_Inspection_5  0.000000e+00\n",
       "193                            Days_Since_Inspection_1  0.000000e+00\n",
       "120     min_Accident_Type_Code_Total_Safety_Complaints  0.000000e+00\n",
       "169               min_Violations_Turbulence_In_gforces  0.000000e+00\n",
       "176             min_Violations_Total_Safety_Complaints  0.000000e+00\n",
       "215                           Days_Since_Inspection_23  0.000000e+00\n",
       "\n",
       "[216 rows x 2 columns]"
      ]
     },
     "execution_count": 213,
     "metadata": {},
     "output_type": "execute_result"
    }
   ],
   "source": [
    "feat_imp = pd.DataFrame(list(zip(train_x0,g.feature_importances_)),columns =['feature','importance'])\n",
    "feat_imp.sort_values(by='importance',inplace=True,ascending=False)\n",
    "# x=feat_imp[feat_imp['importance']==0]['feature'].tolist()\n",
    "# len(x)\n",
    "feat_imp"
   ]
  },
  {
   "cell_type": "code",
   "execution_count": 157,
   "metadata": {},
   "outputs": [],
   "source": [
    "a1 =  pd.DataFrame(list(zip(test['Accident_ID'],ensemble)),\n",
    "                   columns =['Accident_ID','Severity'])"
   ]
  },
  {
   "cell_type": "code",
   "execution_count": 158,
   "metadata": {},
   "outputs": [],
   "source": [
    "a1['Severity'].replace({1:'Minor_Damage_And_Injuries',\n",
    "               3:'Significant_Damage_And_Fatalities',\n",
    "               2:'Significant_Damage_And_Serious_Injuries',\n",
    "               4:'Highly_Fatal_And_Damaging'},inplace=True)"
   ]
  },
  {
   "cell_type": "code",
   "execution_count": 159,
   "metadata": {},
   "outputs": [],
   "source": [
    "a1.to_csv('8feb_ensemble.csv',index=False)"
   ]
  },
  {
   "cell_type": "markdown",
   "metadata": {},
   "source": [
    "### Feature Selection using RFECV"
   ]
  },
  {
   "cell_type": "code",
   "execution_count": 28,
   "metadata": {},
   "outputs": [],
   "source": [
    "from sklearn.ensemble import GradientBoostingClassifier"
   ]
  },
  {
   "cell_type": "code",
   "execution_count": 29,
   "metadata": {},
   "outputs": [],
   "source": [
    "grf=GradientBoostingClassifier(n_estimators=1000,random_state=1729)"
   ]
  },
  {
   "cell_type": "code",
   "execution_count": 30,
   "metadata": {},
   "outputs": [],
   "source": [
    "from sklearn.feature_selection import RFECV"
   ]
  },
  {
   "cell_type": "code",
   "execution_count": 31,
   "metadata": {},
   "outputs": [],
   "source": [
    "rfecv=RFECV(estimator=grf,step=2,verbose=1,cv=2,scoring='f1_weighted',n_jobs=4)"
   ]
  },
  {
   "cell_type": "code",
   "execution_count": 32,
   "metadata": {
    "scrolled": false
   },
   "outputs": [
    {
     "name": "stdout",
     "output_type": "stream",
     "text": [
      "Fitting estimator with 60 features.\n",
      "Fitting estimator with 58 features.\n",
      "Fitting estimator with 56 features.\n",
      "Fitting estimator with 54 features.\n",
      "Fitting estimator with 52 features.\n",
      "Fitting estimator with 50 features.\n",
      "Fitting estimator with 48 features.\n",
      "Fitting estimator with 46 features.\n",
      "Fitting estimator with 44 features.\n",
      "Fitting estimator with 42 features.\n",
      "Fitting estimator with 40 features.\n",
      "Fitting estimator with 38 features.\n",
      "Fitting estimator with 36 features.\n",
      "Fitting estimator with 34 features.\n",
      "Fitting estimator with 32 features.\n",
      "Fitting estimator with 30 features.\n",
      "Fitting estimator with 28 features.\n",
      "Fitting estimator with 26 features.\n",
      "Fitting estimator with 24 features.\n",
      "Fitting estimator with 22 features.\n",
      "Fitting estimator with 20 features.\n",
      "Fitting estimator with 18 features.\n"
     ]
    }
   ],
   "source": [
    "rfecv = rfecv.fit(train1,target)"
   ]
  },
  {
   "cell_type": "code",
   "execution_count": 33,
   "metadata": {},
   "outputs": [
    {
     "data": {
      "text/plain": [
       "array([0.75165338, 0.91303556, 0.95920278, 0.95857594, 0.96049888,\n",
       "       0.96019442, 0.96129639, 0.96060942, 0.96150184, 0.96020291,\n",
       "       0.95929713, 0.95890658, 0.95870251, 0.95890879, 0.95930538,\n",
       "       0.95940937, 0.95750611, 0.95790687, 0.95810336, 0.95790723,\n",
       "       0.95960888, 0.95790543, 0.95890463, 0.95900493, 0.95920299,\n",
       "       0.95850543, 0.95820479, 0.9584022 , 0.95840719, 0.9586038 ,\n",
       "       0.95790806])"
      ]
     },
     "execution_count": 33,
     "metadata": {},
     "output_type": "execute_result"
    }
   ],
   "source": [
    "rfecv.grid_scores_"
   ]
  },
  {
   "cell_type": "code",
   "execution_count": 34,
   "metadata": {
    "scrolled": true
   },
   "outputs": [
    {
     "name": "stdout",
     "output_type": "stream",
     "text": [
      "Mean of grid scores:  0.9508833294491122\n",
      "Standard Deviation of grid scores:  0.03728398387904663\n"
     ]
    }
   ],
   "source": [
    "print('Mean of grid scores: ',np.mean(rfecv.grid_scores_))\n",
    "print('Standard Deviation of grid scores: ',np.std(rfecv.grid_scores_))"
   ]
  },
  {
   "cell_type": "code",
   "execution_count": 104,
   "metadata": {},
   "outputs": [
    {
     "name": "stdout",
     "output_type": "stream",
     "text": [
      "Mean of grid scores:  0.9383782015537852\n",
      "Standard Deviation of grid scores:  0.05779950132404519\n"
     ]
    }
   ],
   "source": [
    "print('Mean of grid scores: ',np.mean(rfecv.grid_scores_))\n",
    "print('Standard Deviation of grid scores: ',np.std(rfecv.grid_scores_))"
   ]
  },
  {
   "cell_type": "code",
   "execution_count": 35,
   "metadata": {},
   "outputs": [
    {
     "data": {
      "image/png": "[encoded data removed]",
      "text/plain": [
       "<Figure size 432x288 with 1 Axes>"
      ]
     },
     "metadata": {
      "needs_background": "light"
     },
     "output_type": "display_data"
    }
   ],
   "source": [
    "plt.figure()\n",
    "plt.xlabel('No. of iterations')\n",
    "plt.ylabel('cross val score of no. of selected features')\n",
    "plt.plot(range(1,len(rfecv.grid_scores_)+1),rfecv.grid_scores_)\n",
    "plt.show()"
   ]
  },
  {
   "cell_type": "code",
   "execution_count": 36,
   "metadata": {},
   "outputs": [
    {
     "name": "stdout",
     "output_type": "stream",
     "text": [
      "optimum no. of features 16\n"
     ]
    }
   ],
   "source": [
    "print('optimum no. of features',rfecv.n_features_)"
   ]
  },
  {
   "cell_type": "code",
   "execution_count": 37,
   "metadata": {},
   "outputs": [],
   "source": [
    "imp_features = list(train1.columns[rfecv.support_])"
   ]
  },
  {
   "cell_type": "code",
   "execution_count": 242,
   "metadata": {},
   "outputs": [
    {
     "data": {
      "text/plain": [
       "['Safety_Score',\n",
       " 'Control_Metric',\n",
       " 'var1',\n",
       " 'median_Days_Since_Inspection_var1',\n",
       " 'mad_Accident_Type_Code_Safety_Score']"
      ]
     },
     "execution_count": 242,
     "metadata": {},
     "output_type": "execute_result"
    }
   ],
   "source": [
    "imp_features"
   ]
  },
  {
   "cell_type": "code",
   "execution_count": 27,
   "metadata": {},
   "outputs": [
    {
     "data": {
      "text/plain": [
       "['Safety_Score',\n",
       " 'Control_Metric',\n",
       " 'var1',\n",
       " 'var4',\n",
       " 'var9',\n",
       " 'median_Days_Since_Inspection_var1',\n",
       " 'mad_Accident_Type_Code_Safety_Score',\n",
       " 'range_Accident_Type_Code_Safety_Score']"
      ]
     },
     "execution_count": 27,
     "metadata": {},
     "output_type": "execute_result"
    }
   ],
   "source": [
    "imp_features = list(train1.columns[rfecv.support_])\n",
    "imp_features"
   ]
  },
  {
   "cell_type": "code",
   "execution_count": 117,
   "metadata": {},
   "outputs": [
    {
     "data": {
      "text/plain": [
       "['var1',\n",
       " 'Control_Metric',\n",
       " 'Safety_Score',\n",
       " 'max_Accident_Type_Code_Safety_Score',\n",
       " 'var5',\n",
       " 'var9',\n",
       " 'var2',\n",
       " 'var13',\n",
       " 'var7',\n",
       " 'range_Days_Since_Inspection_Safety_Score',\n",
       " 'std_Accident_Type_Code_Max_Elevation']"
      ]
     },
     "execution_count": 117,
     "metadata": {},
     "output_type": "execute_result"
    }
   ],
   "source": [
    "imp_features"
   ]
  },
  {
   "cell_type": "code",
   "execution_count": 38,
   "metadata": {},
   "outputs": [
    {
     "data": {
      "text/plain": [
       "['Safety_Score',\n",
       " 'Days_Since_Inspection',\n",
       " 'Control_Metric',\n",
       " 'Turbulence_In_gforces',\n",
       " 'var1',\n",
       " 'var5',\n",
       " 'var7',\n",
       " 'var9',\n",
       " 'var13',\n",
       " 'var20',\n",
       " 'median_Days_Since_Inspection_var1',\n",
       " 'range_Days_Since_Inspection_Safety_Score',\n",
       " 'max_Days_Since_Inspection_Cabin_Temperature',\n",
       " 'range_Accident_Type_Code_var1',\n",
       " 'max_Accident_Type_Code_Turbulence_In_gforces',\n",
       " 'max_Accident_Type_Code_Safety_Score_100.0']"
      ]
     },
     "execution_count": 38,
     "metadata": {},
     "output_type": "execute_result"
    }
   ],
   "source": [
    "imp_features"
   ]
  },
  {
   "cell_type": "code",
   "execution_count": null,
   "metadata": {},
   "outputs": [],
   "source": []
  }
 ],
 "metadata": {
  "kernelspec": {
   "display_name": "Python 3",
   "language": "python",
   "name": "python3"
  },
  "language_info": {
   "codemirror_mode": {
    "name": "ipython",
    "version": 3
   },
   "file_extension": ".py",
   "mimetype": "text/x-python",
   "name": "python",
   "nbconvert_exporter": "python",
   "pygments_lexer": "ipython3",
   "version": "3.7.4"
  }
 },
 "nbformat": 4,
 "nbformat_minor": 2
}
